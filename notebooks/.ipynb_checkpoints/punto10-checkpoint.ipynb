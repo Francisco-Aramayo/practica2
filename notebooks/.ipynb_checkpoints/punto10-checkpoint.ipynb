{
    "cells": [
        {
            "cell_type": "code",
            "execution_count": 4,
            "metadata": {},
            "outputs": [
                {
                    "name": "stdout",
                    "output_type": "stream",
                    "text": [
                        "['/usr/local/lib/python312.zip', '/usr/local/lib/python3.12', '/usr/local/lib/python3.12/lib-dynload', '', '/home/fran/Escritorio/practica2/.venv/lib/python3.12/site-packages', '/home/fran/Escritorio/practica2/src', '/home/fran/Escritorio/practica2/src', '/home/fran/Escritorio/practica2/src', '/home/fran/Escritorio/practica2/src']\n",
                        "\tRonda1\t\n",
                        " \n",
                        "Jugador\tKills\tAssists\tDeaths\n",
                        "---------------------------------------\n",
                        "Shadow\t2\t1\tTrue\n",
                        "Blaze\t1\t0\tFalse\n",
                        "Viper\t1\t2\tTrue\n",
                        "Reaper\t1\t1\tFalse\n",
                        "Frost\t0\t1\tFalse\n",
                        "\n",
                        "\n"
                    ]
                },
                {
                    "ename": "NameError",
                    "evalue": "name 'System' is not defined",
                    "output_type": "error",
                    "traceback": [
                        "\u001b[31m---------------------------------------------------------------------------\u001b[39m",
                        "\u001b[31mNameError\u001b[39m                                 Traceback (most recent call last)",
                        "\u001b[36mCell\u001b[39m\u001b[36m \u001b[39m\u001b[32mIn[4]\u001b[39m\u001b[32m, line 55\u001b[39m\n\u001b[32m     46\u001b[39m \u001b[38;5;66;03m# hacer funcion que genere el ranking con datos por parámetro\u001b[39;00m\n\u001b[32m     47\u001b[39m ranking = {\n\u001b[32m     48\u001b[39m     \u001b[33m\"\u001b[39m\u001b[33mShadow\u001b[39m\u001b[33m\"\u001b[39m: {\u001b[33m\"\u001b[39m\u001b[33mkills\u001b[39m\u001b[33m\"\u001b[39m: \u001b[32m0\u001b[39m, \u001b[33m\"\u001b[39m\u001b[33massists\u001b[39m\u001b[33m\"\u001b[39m: \u001b[32m0\u001b[39m, \u001b[33m\"\u001b[39m\u001b[33mdeaths\u001b[39m\u001b[33m\"\u001b[39m: \u001b[32m0\u001b[39m, \u001b[33m\"\u001b[39m\u001b[33mMVPs\u001b[39m\u001b[33m\"\u001b[39m: \u001b[32m0\u001b[39m, \u001b[33m\"\u001b[39m\u001b[33mscore\u001b[39m\u001b[33m\"\u001b[39m: \u001b[32m0\u001b[39m},\n\u001b[32m     49\u001b[39m     \u001b[33m\"\u001b[39m\u001b[33mBlaze\u001b[39m\u001b[33m\"\u001b[39m: {\u001b[33m\"\u001b[39m\u001b[33mkills\u001b[39m\u001b[33m\"\u001b[39m: \u001b[32m0\u001b[39m, \u001b[33m\"\u001b[39m\u001b[33massists\u001b[39m\u001b[33m\"\u001b[39m: \u001b[32m0\u001b[39m, \u001b[33m\"\u001b[39m\u001b[33mdeaths\u001b[39m\u001b[33m\"\u001b[39m: \u001b[32m0\u001b[39m, \u001b[33m\"\u001b[39m\u001b[33mMVPs\u001b[39m\u001b[33m\"\u001b[39m: \u001b[32m0\u001b[39m, \u001b[33m\"\u001b[39m\u001b[33mscore\u001b[39m\u001b[33m\"\u001b[39m: \u001b[32m0\u001b[39m},\n\u001b[32m   (...)\u001b[39m\u001b[32m     52\u001b[39m     \u001b[33m\"\u001b[39m\u001b[33mReaper\u001b[39m\u001b[33m\"\u001b[39m: {\u001b[33m\"\u001b[39m\u001b[33mkills\u001b[39m\u001b[33m\"\u001b[39m: \u001b[32m0\u001b[39m, \u001b[33m\"\u001b[39m\u001b[33massists\u001b[39m\u001b[33m\"\u001b[39m: \u001b[32m0\u001b[39m, \u001b[33m\"\u001b[39m\u001b[33mdeaths\u001b[39m\u001b[33m\"\u001b[39m: \u001b[32m0\u001b[39m, \u001b[33m\"\u001b[39m\u001b[33mMVPs\u001b[39m\u001b[33m\"\u001b[39m: \u001b[32m0\u001b[39m, \u001b[33m\"\u001b[39m\u001b[33mscore\u001b[39m\u001b[33m\"\u001b[39m: \u001b[32m0\u001b[39m},\n\u001b[32m     53\u001b[39m }\n\u001b[32m---> \u001b[39m\u001b[32m55\u001b[39m \u001b[43mprocesar_rondas\u001b[49m\u001b[43m(\u001b[49m\u001b[43mrondas\u001b[49m\u001b[43m,\u001b[49m\u001b[43mranking\u001b[49m\u001b[43m)\u001b[49m\n\u001b[32m     56\u001b[39m imprimir_ranking(ranking)\n",
                        "\u001b[36mFile \u001b[39m\u001b[32m~/Escritorio/practica2/src/funciones.py:41\u001b[39m, in \u001b[36mprocesar_rondas\u001b[39m\u001b[34m(rondas, ranking)\u001b[39m\n\u001b[32m     38\u001b[39m \u001b[38;5;66;03m#imprimo la ronda\u001b[39;00m\n\u001b[32m     39\u001b[39m imprimir_ronda(ronda)\n\u001b[32m---> \u001b[39m\u001b[32m41\u001b[39m \u001b[43mSystem\u001b[49m.out.print(\u001b[33mf\u001b[39m\u001b[33m\"\u001b[39m\u001b[38;5;132;01m{\u001b[39;00mmvp_actual\u001b[38;5;132;01m}\u001b[39;00m\u001b[33m fue el MVP de esta ronda!\u001b[39m\u001b[33m\"\u001b[39m)\n",
                        "\u001b[31mNameError\u001b[39m: name 'System' is not defined"
                    ]
                }
            ],
            "source": [
                "import sys\n",
                "import os\n",
                "\n",
                "# Obtener la ruta absoluta del directorio raíz del proyecto\n",
                "sys.path.append(os.path.abspath(\"../src\"))\n",
                "print(sys.path)\n",
                "from funciones import *\n",
                "\n",
                "rondas = [\n",
                "    {\n",
                "        'Shadow': {'kills': 2, 'assists': 1, 'deaths': True},\n",
                "        'Blaze': {'kills': 1, 'assists': 0, 'deaths': False},\n",
                "        'Viper': {'kills': 1, 'assists': 2, 'deaths': True},\n",
                "        'Frost': {'kills': 0, 'assists': 1, 'deaths': False},\n",
                "        'Reaper': {'kills': 1, 'assists': 1, 'deaths': False}\n",
                "    },\n",
                "    {\n",
                "        'Shadow': {'kills': 0, 'assists': 2, 'deaths': False},\n",
                "        'Blaze': {'kills': 2, 'assists': 0, 'deaths': True},\n",
                "        'Viper': {'kills': 1, 'assists': 1, 'deaths': False},\n",
                "        'Frost': {'kills': 2, 'assists': 1, 'deaths': True},\n",
                "        'Reaper': {'kills': 0, 'assists': 1, 'deaths': False}\n",
                "    },\n",
                "    {\n",
                "        'Shadow': {'kills': 1, 'assists': 0, 'deaths': False},\n",
                "        'Blaze': {'kills': 2, 'assists': 2, 'deaths': True},\n",
                "        'Viper': {'kills': 1, 'assists': 1, 'deaths': True},\n",
                "        'Frost': {'kills': 0, 'assists': 1, 'deaths': False},\n",
                "        'Reaper': {'kills': 1, 'assists': 1, 'deaths': False}\n",
                "    },\n",
                "    {\n",
                "        'Shadow': {'kills': 2, 'assists': 1, 'deaths': False},\n",
                "        'Blaze': {'kills': 1, 'assists': 0, 'deaths': True},\n",
                "        'Viper': {'kills': 0, 'assists': 2, 'deaths': False},\n",
                "        'Frost': {'kills': 1, 'assists': 1, 'deaths': True},\n",
                "        'Reaper': {'kills': 1, 'assists': 1, 'deaths': False}\n",
                "    },\n",
                "    {\n",
                "        'Shadow': {'kills': 1, 'assists': 2, 'deaths': True},\n",
                "        'Blaze': {'kills': 0, 'assists': 1, 'deaths': False},\n",
                "        'Viper': {'kills': 2, 'assists': 0, 'deaths': True},\n",
                "        'Frost': {'kills': 1, 'assists': 1, 'deaths': False},\n",
                "        'Reaper': {'kills': 1, 'assists': 1, 'deaths': True}\n",
                "    }\n",
                "]\n",
                "# hacer funcion que genere el ranking con datos por parámetro\n",
                "ranking = {\n",
                "    \"Shadow\": {\"kills\": 0, \"assists\": 0, \"deaths\": 0, \"MVPs\": 0, \"score\": 0},\n",
                "    \"Blaze\": {\"kills\": 0, \"assists\": 0, \"deaths\": 0, \"MVPs\": 0, \"score\": 0},\n",
                "    \"Viper\": {\"kills\": 0, \"assists\": 0, \"deaths\": 0, \"MVPs\": 0, \"score\": 0},\n",
                "    \"Frost\": {\"kills\": 0, \"assists\": 0, \"deaths\": 0, \"MVPs\": 0, \"score\": 0},\n",
                "    \"Reaper\": {\"kills\": 0, \"assists\": 0, \"deaths\": 0, \"MVPs\": 0, \"score\": 0},\n",
                "}\n",
                "\n",
                "procesar_rondas(rondas,ranking)\n",
                "imprimir_ranking(ranking)\n",
                "\n"
            ]
        }
    ],
    "metadata": {
        "kernelspec": {
            "display_name": ".venv",
            "language": "python",
            "name": "python3"
        },
        "language_info": {
            "codemirror_mode": {
                "name": "ipython",
                "version": 3
            },
            "file_extension": ".py",
            "mimetype": "text/x-python",
            "name": "python",
            "nbconvert_exporter": "python",
            "pygments_lexer": "ipython3",
            "version": "3.12.9"
        }
    },
    "nbformat": 4,
    "nbformat_minor": 2
}
